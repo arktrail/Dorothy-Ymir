{
 "cells": [
  {
   "cell_type": "code",
   "execution_count": null,
   "metadata": {},
   "outputs": [],
   "source": [
    "import nltk\n",
    "nltk.download()"
   ]
  },
  {
   "cell_type": "code",
   "execution_count": 108,
   "metadata": {},
   "outputs": [],
   "source": [
    "import pickle\n",
    "import pandas as pd\n",
    "from nltk.tokenize import word_tokenize\n",
    "import string\n",
    "import json"
   ]
  },
  {
   "cell_type": "code",
   "execution_count": 2,
   "metadata": {},
   "outputs": [],
   "source": [
    "file = open('../Toy_Dataset/patent_200k_reparse_1.p', 'rb')\n",
    "data = pickle.load(file)\n",
    "file.close()\n",
    "df_raw = pd.DataFrame(data) "
   ]
  },
  {
   "cell_type": "code",
   "execution_count": 4,
   "metadata": {},
   "outputs": [],
   "source": [
    "df_raw = pd.DataFrame(data)"
   ]
  },
  {
   "cell_type": "markdown",
   "metadata": {},
   "source": [
    "## Data analysis"
   ]
  },
  {
   "cell_type": "code",
   "execution_count": 5,
   "metadata": {},
   "outputs": [],
   "source": [
    "# slice dictionary for cpc field\n",
    "cpc_field_slice_dict = {'kind':                (0 ,2 ),   \n",
    "                        'application_number':  (2 ,10),  \n",
    "                        'document_number':     (10,18),\n",
    "                        'cpc_section':         (18,19), \n",
    "                        'cpc_class':           (18,21), # include higher levels\n",
    "                        'cpc_subclass':        (18,22), # include higher levels\n",
    "                        'cpc_main_group':      (18,26), # include higher levels\n",
    "                        'cpc_subgroup':        (18,33), # include higher levels\n",
    "                        'cpc_version_date':    (33,41), \n",
    "                        'cpc_symbol_position': (41,42), \n",
    "                        'cpc_value_code':      (42,43), \n",
    "                        'cpc_set_group':       (43,46), \n",
    "                        'cpc_set_rank':        (46,48)}"
   ]
  },
  {
   "cell_type": "code",
   "execution_count": 6,
   "metadata": {},
   "outputs": [
    {
     "data": {
      "text/plain": [
       "5999"
      ]
     },
     "execution_count": 6,
     "metadata": {},
     "output_type": "execute_result"
    }
   ],
   "source": [
    "# number of claims\n",
    "len(df_raw)"
   ]
  },
  {
   "cell_type": "code",
   "execution_count": 7,
   "metadata": {},
   "outputs": [],
   "source": [
    "flattened_cpc = [y for x in df_raw[\"cpc_codes\"] for y in x]"
   ]
  },
  {
   "cell_type": "code",
   "execution_count": 8,
   "metadata": {},
   "outputs": [
    {
     "data": {
      "text/plain": [
       "99039"
      ]
     },
     "execution_count": 8,
     "metadata": {},
     "output_type": "execute_result"
    }
   ],
   "source": [
    "# number of labels\n",
    "len(flattened_cpc)"
   ]
  },
  {
   "cell_type": "code",
   "execution_count": 9,
   "metadata": {},
   "outputs": [],
   "source": [
    "# create analytics dataset without any text data\n",
    "levels = [\"cpc_section\", \"cpc_class\", \"cpc_subclass\", \"cpc_main_group\", \"cpc_subgroup\"]\n",
    "df_analytics = pd.DataFrame([[cpc[value[0]:value[1]] for key, value in cpc_field_slice_dict.items()] \n",
    "                             for cpc in flattened_cpc],\n",
    "                            columns = list(cpc_field_slice_dict.keys()))  "
   ]
  },
  {
   "cell_type": "code",
   "execution_count": 10,
   "metadata": {},
   "outputs": [
    {
     "data": {
      "text/html": [
       "<div>\n",
       "<style scoped>\n",
       "    .dataframe tbody tr th:only-of-type {\n",
       "        vertical-align: middle;\n",
       "    }\n",
       "\n",
       "    .dataframe tbody tr th {\n",
       "        vertical-align: top;\n",
       "    }\n",
       "\n",
       "    .dataframe thead th {\n",
       "        text-align: right;\n",
       "    }\n",
       "</style>\n",
       "<table border=\"1\" class=\"dataframe\">\n",
       "  <thead>\n",
       "    <tr style=\"text-align: right;\">\n",
       "      <th></th>\n",
       "      <th>kind</th>\n",
       "      <th>application_number</th>\n",
       "      <th>document_number</th>\n",
       "      <th>cpc_section</th>\n",
       "      <th>cpc_class</th>\n",
       "      <th>cpc_subclass</th>\n",
       "      <th>cpc_main_group</th>\n",
       "      <th>cpc_subgroup</th>\n",
       "      <th>cpc_version_date</th>\n",
       "      <th>cpc_symbol_position</th>\n",
       "      <th>cpc_value_code</th>\n",
       "      <th>cpc_set_group</th>\n",
       "      <th>cpc_set_rank</th>\n",
       "    </tr>\n",
       "  </thead>\n",
       "  <tbody>\n",
       "    <tr>\n",
       "      <td>0</td>\n",
       "      <td>B2</td>\n",
       "      <td>13496915</td>\n",
       "      <td>10267362</td>\n",
       "      <td>F</td>\n",
       "      <td>F16</td>\n",
       "      <td>F16C</td>\n",
       "      <td>F16C  33</td>\n",
       "      <td>F16C  33/203</td>\n",
       "      <td>20130101</td>\n",
       "      <td>F</td>\n",
       "      <td>I</td>\n",
       "      <td>0</td>\n",
       "      <td>0</td>\n",
       "    </tr>\n",
       "    <tr>\n",
       "      <td>1</td>\n",
       "      <td>B2</td>\n",
       "      <td>13496915</td>\n",
       "      <td>10267362</td>\n",
       "      <td>F</td>\n",
       "      <td>F16</td>\n",
       "      <td>F16C</td>\n",
       "      <td>F16C  33</td>\n",
       "      <td>F16C  33/201</td>\n",
       "      <td>20130101</td>\n",
       "      <td>L</td>\n",
       "      <td>I</td>\n",
       "      <td>0</td>\n",
       "      <td>0</td>\n",
       "    </tr>\n",
       "    <tr>\n",
       "      <td>2</td>\n",
       "      <td>B2</td>\n",
       "      <td>13496915</td>\n",
       "      <td>10267362</td>\n",
       "      <td>F</td>\n",
       "      <td>F16</td>\n",
       "      <td>F16C</td>\n",
       "      <td>F16C  33</td>\n",
       "      <td>F16C  33/208</td>\n",
       "      <td>20130101</td>\n",
       "      <td>L</td>\n",
       "      <td>I</td>\n",
       "      <td>0</td>\n",
       "      <td>0</td>\n",
       "    </tr>\n",
       "    <tr>\n",
       "      <td>3</td>\n",
       "      <td>B2</td>\n",
       "      <td>13496915</td>\n",
       "      <td>10267362</td>\n",
       "      <td>F</td>\n",
       "      <td>F16</td>\n",
       "      <td>F16C</td>\n",
       "      <td>F16C2220</td>\n",
       "      <td>F16C2220/28</td>\n",
       "      <td>20130101</td>\n",
       "      <td>L</td>\n",
       "      <td>A</td>\n",
       "      <td>0</td>\n",
       "      <td>0</td>\n",
       "    </tr>\n",
       "    <tr>\n",
       "      <td>4</td>\n",
       "      <td>B2</td>\n",
       "      <td>13496915</td>\n",
       "      <td>10267362</td>\n",
       "      <td>F</td>\n",
       "      <td>F16</td>\n",
       "      <td>F16C</td>\n",
       "      <td>F16C2326</td>\n",
       "      <td>F16C2326/00</td>\n",
       "      <td>20130101</td>\n",
       "      <td>L</td>\n",
       "      <td>A</td>\n",
       "      <td>0</td>\n",
       "      <td>0</td>\n",
       "    </tr>\n",
       "  </tbody>\n",
       "</table>\n",
       "</div>"
      ],
      "text/plain": [
       "  kind application_number document_number cpc_section cpc_class cpc_subclass  \\\n",
       "0   B2           13496915        10267362           F       F16         F16C   \n",
       "1   B2           13496915        10267362           F       F16         F16C   \n",
       "2   B2           13496915        10267362           F       F16         F16C   \n",
       "3   B2           13496915        10267362           F       F16         F16C   \n",
       "4   B2           13496915        10267362           F       F16         F16C   \n",
       "\n",
       "  cpc_main_group     cpc_subgroup cpc_version_date cpc_symbol_position  \\\n",
       "0       F16C  33  F16C  33/203            20130101                   F   \n",
       "1       F16C  33  F16C  33/201            20130101                   L   \n",
       "2       F16C  33  F16C  33/208            20130101                   L   \n",
       "3       F16C2220  F16C2220/28             20130101                   L   \n",
       "4       F16C2326  F16C2326/00             20130101                   L   \n",
       "\n",
       "  cpc_value_code cpc_set_group cpc_set_rank  \n",
       "0              I             0            0  \n",
       "1              I             0            0  \n",
       "2              I             0            0  \n",
       "3              A             0            0  \n",
       "4              A             0            0  "
      ]
     },
     "execution_count": 10,
     "metadata": {},
     "output_type": "execute_result"
    }
   ],
   "source": [
    "df_analytics.head()"
   ]
  },
  {
   "cell_type": "code",
   "execution_count": 11,
   "metadata": {
    "scrolled": true
   },
   "outputs": [
    {
     "name": "stdout",
     "output_type": "stream",
     "text": [
      "number of unique cpc_section: 9\n",
      "number of unique cpc_class: 127\n",
      "number of unique cpc_subclass: 579\n",
      "number of unique cpc_main_group: 4810\n",
      "number of unique cpc_subgroup: 38009\n"
     ]
    }
   ],
   "source": [
    "# number of unique values at differente levels\n",
    "unique_label_dict = {}\n",
    "for level in levels:\n",
    "    unique_label_dict[level] = set(df_analytics[level])\n",
    "    print(\"number of unique \" + level + \": \" + str(len(unique_label_dict[level])))"
   ]
  },
  {
   "cell_type": "code",
   "execution_count": 12,
   "metadata": {},
   "outputs": [],
   "source": [
    "df_raw[\"num_label\"] = df_raw[\"cpc_codes\"].apply(lambda x: len(x))"
   ]
  },
  {
   "cell_type": "code",
   "execution_count": 13,
   "metadata": {},
   "outputs": [
    {
     "data": {
      "text/plain": [
       "0.044674112352058676"
      ]
     },
     "execution_count": 13,
     "metadata": {},
     "output_type": "execute_result"
    }
   ],
   "source": [
    "# percent of patents with one label\n",
    "len(df_raw[df_raw[\"num_label\"] == 1]) / len(df_raw[\"num_label\"])"
   ]
  },
  {
   "cell_type": "code",
   "execution_count": 14,
   "metadata": {
    "scrolled": true
   },
   "outputs": [
    {
     "data": {
      "text/html": [
       "<div>\n",
       "<style scoped>\n",
       "    .dataframe tbody tr th:only-of-type {\n",
       "        vertical-align: middle;\n",
       "    }\n",
       "\n",
       "    .dataframe tbody tr th {\n",
       "        vertical-align: top;\n",
       "    }\n",
       "\n",
       "    .dataframe thead th {\n",
       "        text-align: right;\n",
       "    }\n",
       "</style>\n",
       "<table border=\"1\" class=\"dataframe\">\n",
       "  <thead>\n",
       "    <tr style=\"text-align: right;\">\n",
       "      <th></th>\n",
       "      <th>count</th>\n",
       "      <th>%</th>\n",
       "    </tr>\n",
       "  </thead>\n",
       "  <tbody>\n",
       "    <tr>\n",
       "      <td>3</td>\n",
       "      <td>414</td>\n",
       "      <td>6.9%</td>\n",
       "    </tr>\n",
       "    <tr>\n",
       "      <td>5</td>\n",
       "      <td>410</td>\n",
       "      <td>6.8%</td>\n",
       "    </tr>\n",
       "    <tr>\n",
       "      <td>4</td>\n",
       "      <td>404</td>\n",
       "      <td>6.7%</td>\n",
       "    </tr>\n",
       "    <tr>\n",
       "      <td>6</td>\n",
       "      <td>399</td>\n",
       "      <td>6.7%</td>\n",
       "    </tr>\n",
       "    <tr>\n",
       "      <td>2</td>\n",
       "      <td>377</td>\n",
       "      <td>6.3%</td>\n",
       "    </tr>\n",
       "    <tr>\n",
       "      <td>...</td>\n",
       "      <td>...</td>\n",
       "      <td>...</td>\n",
       "    </tr>\n",
       "    <tr>\n",
       "      <td>172</td>\n",
       "      <td>1</td>\n",
       "      <td>0.0%</td>\n",
       "    </tr>\n",
       "    <tr>\n",
       "      <td>114</td>\n",
       "      <td>1</td>\n",
       "      <td>0.0%</td>\n",
       "    </tr>\n",
       "    <tr>\n",
       "      <td>148</td>\n",
       "      <td>1</td>\n",
       "      <td>0.0%</td>\n",
       "    </tr>\n",
       "    <tr>\n",
       "      <td>140</td>\n",
       "      <td>1</td>\n",
       "      <td>0.0%</td>\n",
       "    </tr>\n",
       "    <tr>\n",
       "      <td>197</td>\n",
       "      <td>1</td>\n",
       "      <td>0.0%</td>\n",
       "    </tr>\n",
       "  </tbody>\n",
       "</table>\n",
       "<p>166 rows × 2 columns</p>\n",
       "</div>"
      ],
      "text/plain": [
       "     count     %\n",
       "3      414  6.9%\n",
       "5      410  6.8%\n",
       "4      404  6.7%\n",
       "6      399  6.7%\n",
       "2      377  6.3%\n",
       "..     ...   ...\n",
       "172      1  0.0%\n",
       "114      1  0.0%\n",
       "148      1  0.0%\n",
       "140      1  0.0%\n",
       "197      1  0.0%\n",
       "\n",
       "[166 rows x 2 columns]"
      ]
     },
     "execution_count": 14,
     "metadata": {},
     "output_type": "execute_result"
    }
   ],
   "source": [
    "pd.concat([df_raw[\"num_label\"].value_counts(),\n",
    "           df_raw[\"num_label\"].value_counts(normalize=True).mul(100)\n",
    "           .round(1).astype(str)+\"%\"], axis=1, keys=['count', '%'])"
   ]
  },
  {
   "cell_type": "markdown",
   "metadata": {},
   "source": [
    "## Data preprocess"
   ]
  },
  {
   "cell_type": "code",
   "execution_count": 99,
   "metadata": {},
   "outputs": [],
   "source": [
    "# text_column values: ['title', 'abstraction', 'claims', 'brief_summary', 'description']\n",
    "text_columns = ['title', 'abstraction', 'claims']\n",
    "\n",
    "# label_columns values: ['cpc_section', 'cpc_class', 'cpc_subclass', 'cpc_main_group', 'cpc_subgroup']\n",
    "label_columns = ['cpc_section', 'cpc_class', 'cpc_subclass']"
   ]
  },
  {
   "cell_type": "code",
   "execution_count": 100,
   "metadata": {},
   "outputs": [],
   "source": [
    "def extract_labels(cpc_codes, label_columns):\n",
    "    labels = set()\n",
    "    for cpc_code in cpc_codes:\n",
    "        level_label = []\n",
    "        for label_column in label_columns:\n",
    "            index = cpc_field_slice_dict[label_column]\n",
    "            level_label.append(cpc_code[index[0]:index[1]])\n",
    "        labels.add(\"--\".join(level_label))\n",
    "    return list(labels)"
   ]
  },
  {
   "cell_type": "code",
   "execution_count": null,
   "metadata": {},
   "outputs": [],
   "source": [
    "def tokenize(text):\n",
    "    tokens = word_tokenize(text)\n",
    "    return [token.lower() for token in tokens if token not in string.punctuation]"
   ]
  },
  {
   "cell_type": "code",
   "execution_count": 118,
   "metadata": {},
   "outputs": [],
   "source": [
    "def merge_data(text_columns, label_columns, filename):\n",
    "    df_text = pd.DataFrame(df_raw['cpc_codes'].apply(extract_labels, args=(label_columns,)))\n",
    "    df_text['doc_token'] = df_raw[text_columns].agg(' '.join, axis=1).apply(tokenize)\n",
    "    df_text.columns = ['doc_label', 'doc_token']\n",
    "    return df_text.to_json(filename, orient='records')"
   ]
  },
  {
   "cell_type": "code",
   "execution_count": 119,
   "metadata": {},
   "outputs": [],
   "source": [
    "merge_data(text_columns, label_columns, 'toy_data.json')"
   ]
  },
  {
   "cell_type": "markdown",
   "metadata": {},
   "source": [
    "## Create taxonomy"
   ]
  },
  {
   "cell_type": "code",
   "execution_count": 122,
   "metadata": {},
   "outputs": [],
   "source": [
    "import pickle\n",
    "cpc_label_tree_path = '../cpc_label_tree.pkl'\n",
    "taxonomy_path = 'data/cpc.taxonomy'\n",
    "\n",
    "with open(cpc_label_tree_path,\"rb\") as f:\n",
    "    cpc_label_tree = pickle.load(f)"
   ]
  },
  {
   "cell_type": "code",
   "execution_count": 125,
   "metadata": {},
   "outputs": [
    {
     "data": {
      "text/plain": [
       "'A\\tG\\tY\\tH\\tB\\tF\\tC\\tD\\tE'"
      ]
     },
     "execution_count": 125,
     "metadata": {},
     "output_type": "execute_result"
    }
   ],
   "source": [
    "\"\\t\".join(cpc_label_tree['Root'].keys())"
   ]
  },
  {
   "cell_type": "code",
   "execution_count": 154,
   "metadata": {},
   "outputs": [],
   "source": [
    "with open(taxonomy_path, \"w\") as f:\n",
    "    \n",
    "    root_dict = cpc_label_tree['Root']\n",
    "    children = \"\\t\".join(root_dict.keys())\n",
    "    f.write(f\"Root\\t{children}\\n\")\n",
    "    \n",
    "    for cpc_section, section_dict in root_dict.items():\n",
    "        \n",
    "        children = \"\\t\".join(section_dict.keys())\n",
    "        f.write(f\"{cpc_section}\\t{children}\\n\")\n",
    "        \n",
    "        for cpc_class, class_dict in section_dict.items():\n",
    "            \n",
    "            children = \"\\t\".join(class_dict.keys())\n",
    "            f.write(f\"{cpc_class}\\t{children}\\n\")\n",
    "            \n",
    "            for cpc_subclass, subclass_dict in class_dict.items():\n",
    "                \n",
    "                children = \"\\t\".join(subclass_dict.keys())\n",
    "                f.write(f\"{cpc_subclass}\\t{children}\\n\")\n",
    "                \n",
    "                for cpc_main_group, main_group_set in subclass_dict.items():\n",
    "                    \n",
    "                    children = \"\\t\".join(main_group_set)\n",
    "                    f.write(f\"{cpc_main_group}\\t{children}\\n\")"
   ]
  }
 ],
 "metadata": {
  "kernelspec": {
   "display_name": "Python 3",
   "language": "python",
   "name": "python3"
  },
  "language_info": {
   "codemirror_mode": {
    "name": "ipython",
    "version": 3
   },
   "file_extension": ".py",
   "mimetype": "text/x-python",
   "name": "python",
   "nbconvert_exporter": "python",
   "pygments_lexer": "ipython3",
   "version": "3.7.4"
  }
 },
 "nbformat": 4,
 "nbformat_minor": 4
}
