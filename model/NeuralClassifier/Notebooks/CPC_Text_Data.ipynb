{
 "cells": [
  {
   "cell_type": "code",
   "execution_count": 1,
   "metadata": {},
   "outputs": [],
   "source": [
    "import pickle\n",
    "file = open('Toy_Dataset/patent_200000_cpc_1.p', 'rb')\n",
    "data = pickle.load(file)\n",
    "file.close()"
   ]
  },
  {
   "cell_type": "code",
   "execution_count": 16,
   "metadata": {},
   "outputs": [],
   "source": [
    "def build_cpc_field_slice_dicts():\n",
    "    g = [\n",
    "        ('kind',                (0 ,2 )),   \n",
    "        ('application_number',  (2 ,10)),  \n",
    "        ('document_number',     (10,18)),\n",
    "        ('cpc_section',         (18,19)), \n",
    "        ('cpc_class',           (18,21)), \n",
    "        ('cpc_subclass',        (18,22)), \n",
    "        ('cpc_main_group',      (18,26)), \n",
    "        ('cpc_subgroup',        (18,33)), \n",
    "        ('cpc_version_date',    (33,41)), \n",
    "        ('cpc_symbol_position', (41,42)), \n",
    "        ('cpc_value_code',      (42,43)), \n",
    "        ('cpc_set_group',       (43,46)), \n",
    "        ('cpc_set_rank',        (46,48))]\n",
    "    a = g[:2] + [(k,(v[0],v[1]+3)) for k,v in g[2:3]] + \\\n",
    "            [(k,(v[0]+3,v[1]+3)) for k,v in g[3:]]\n",
    "    return {'grant': g, 'application': a}\n",
    "cpc_field_slice_dict = build_cpc_field_slice_dicts()"
   ]
  },
  {
   "cell_type": "code",
   "execution_count": 2,
   "metadata": {},
   "outputs": [
    {
     "data": {
      "text/plain": [
       "6005"
      ]
     },
     "execution_count": 2,
     "metadata": {},
     "output_type": "execute_result"
    }
   ],
   "source": [
    "len(data)"
   ]
  },
  {
   "cell_type": "code",
   "execution_count": 3,
   "metadata": {},
   "outputs": [],
   "source": [
    "import pandas as pd"
   ]
  },
  {
   "cell_type": "code",
   "execution_count": 25,
   "metadata": {},
   "outputs": [],
   "source": [
    "df = pd.DataFrame(data) "
   ]
  },
  {
   "cell_type": "code",
   "execution_count": 26,
   "metadata": {},
   "outputs": [
    {
     "data": {
      "text/html": [
       "<div>\n",
       "<style scoped>\n",
       "    .dataframe tbody tr th:only-of-type {\n",
       "        vertical-align: middle;\n",
       "    }\n",
       "\n",
       "    .dataframe tbody tr th {\n",
       "        vertical-align: top;\n",
       "    }\n",
       "\n",
       "    .dataframe thead th {\n",
       "        text-align: right;\n",
       "    }\n",
       "</style>\n",
       "<table border=\"1\" class=\"dataframe\">\n",
       "  <thead>\n",
       "    <tr style=\"text-align: right;\">\n",
       "      <th></th>\n",
       "      <th>mcf</th>\n",
       "      <th>title</th>\n",
       "      <th>abstraction</th>\n",
       "      <th>claims</th>\n",
       "      <th>brief_summary</th>\n",
       "      <th>description</th>\n",
       "      <th>classification</th>\n",
       "      <th>cpc_codes</th>\n",
       "    </tr>\n",
       "  </thead>\n",
       "  <tbody>\n",
       "    <tr>\n",
       "      <td>0</td>\n",
       "      <td>B21349691510267362F16C2326/30    20130101LA  0 0</td>\n",
       "      <td>Sliding Contact Surface-forming Material, and ...</td>\n",
       "      <td>TECHNICAL FIELD The present invention relates ...</td>\n",
       "      <td>A sliding contact surface-forming material com...</td>\n",
       "      <td>The present invention relates to a sliding co...</td>\n",
       "      <td>The present invention relates to a sliding co...</td>\n",
       "      <td>{'cpc': [{'section': '0/F', 'class': '1/F/F16'...</td>\n",
       "      <td>[B21349691510267362F16C  33/203   20130101FI  ...</td>\n",
       "    </tr>\n",
       "    <tr>\n",
       "      <td>1</td>\n",
       "      <td>B211598997 8665352H04N   5/3456  20130101LI  0 0</td>\n",
       "      <td>Method of Acquiring Physical Information and P...</td>\n",
       "      <td>CROSS REFERENCES TO RELATED APPLICATIONS The i...</td>\n",
       "      <td>A method of acquiring physical information by ...</td>\n",
       "      <td>The invention contains subject matter related...</td>\n",
       "      <td>The invention contains subject matter related...</td>\n",
       "      <td>{'cpc': [], 'ipc': [{'section': '0/H', 'class'...</td>\n",
       "      <td>[B211598997 8665352H04N   5/378   20130101FI  ...</td>\n",
       "    </tr>\n",
       "    <tr>\n",
       "      <td>2</td>\n",
       "      <td>B109916625 6618257H05K2201/10386 20130101LA  0 0</td>\n",
       "      <td>Wide data path stacking system and method</td>\n",
       "      <td>TECHNICAL FIELD The present invention relates ...</td>\n",
       "      <td>A high density circuit module comprising: a fi...</td>\n",
       "      <td>The present invention relates to aggregating ...</td>\n",
       "      <td>The present invention relates to aggregating ...</td>\n",
       "      <td>{'cpc': [], 'ipc': []}</td>\n",
       "      <td>[B109916625 6618257H05K   1/141   20130101FI  ...</td>\n",
       "    </tr>\n",
       "    <tr>\n",
       "      <td>3</td>\n",
       "      <td>B2         8635085A61B   5/0002  20130101FI  0 0</td>\n",
       "      <td>Multi-user Remote Health Monitoring System wit...</td>\n",
       "      <td>FIELD OF THE INVENTION This invention relates ...</td>\n",
       "      <td>An apparatus, comprising: a measurement appara...</td>\n",
       "      <td>This invention relates generally to remote he...</td>\n",
       "      <td>This invention relates generally to remote he...</td>\n",
       "      <td>{'cpc': [], 'ipc': [{'section': '0/G', 'class'...</td>\n",
       "      <td>[B2         8635085A61B   5/0002  20130101FI  ...</td>\n",
       "    </tr>\n",
       "    <tr>\n",
       "      <td>4</td>\n",
       "      <td>B11429878410261023G01N2201/0693  20130101LA  0 0</td>\n",
       "      <td>Remote Illumination and Detection Method, Node...</td>\n",
       "      <td>FIELD The claims presented herein are related ...</td>\n",
       "      <td>A remote illumination and detection method com...</td>\n",
       "      <td>The claims presented herein are related to a ...</td>\n",
       "      <td>The claims presented herein are related to a ...</td>\n",
       "      <td>{'cpc': [{'section': '0/G', 'class': '1/G/G01'...</td>\n",
       "      <td>[B11429878410261023G01N  21/84    20130101FI  ...</td>\n",
       "    </tr>\n",
       "  </tbody>\n",
       "</table>\n",
       "</div>"
      ],
      "text/plain": [
       "                                                mcf  \\\n",
       "0  B21349691510267362F16C2326/30    20130101LA  0 0   \n",
       "1  B211598997 8665352H04N   5/3456  20130101LI  0 0   \n",
       "2  B109916625 6618257H05K2201/10386 20130101LA  0 0   \n",
       "3  B2         8635085A61B   5/0002  20130101FI  0 0   \n",
       "4  B11429878410261023G01N2201/0693  20130101LA  0 0   \n",
       "\n",
       "                                               title  \\\n",
       "0  Sliding Contact Surface-forming Material, and ...   \n",
       "1  Method of Acquiring Physical Information and P...   \n",
       "2          Wide data path stacking system and method   \n",
       "3  Multi-user Remote Health Monitoring System wit...   \n",
       "4  Remote Illumination and Detection Method, Node...   \n",
       "\n",
       "                                         abstraction  \\\n",
       "0  TECHNICAL FIELD The present invention relates ...   \n",
       "1  CROSS REFERENCES TO RELATED APPLICATIONS The i...   \n",
       "2  TECHNICAL FIELD The present invention relates ...   \n",
       "3  FIELD OF THE INVENTION This invention relates ...   \n",
       "4  FIELD The claims presented herein are related ...   \n",
       "\n",
       "                                              claims  \\\n",
       "0  A sliding contact surface-forming material com...   \n",
       "1  A method of acquiring physical information by ...   \n",
       "2  A high density circuit module comprising: a fi...   \n",
       "3  An apparatus, comprising: a measurement appara...   \n",
       "4  A remote illumination and detection method com...   \n",
       "\n",
       "                                       brief_summary  \\\n",
       "0   The present invention relates to a sliding co...   \n",
       "1   The invention contains subject matter related...   \n",
       "2   The present invention relates to aggregating ...   \n",
       "3   This invention relates generally to remote he...   \n",
       "4   The claims presented herein are related to a ...   \n",
       "\n",
       "                                         description  \\\n",
       "0   The present invention relates to a sliding co...   \n",
       "1   The invention contains subject matter related...   \n",
       "2   The present invention relates to aggregating ...   \n",
       "3   This invention relates generally to remote he...   \n",
       "4   The claims presented herein are related to a ...   \n",
       "\n",
       "                                      classification  \\\n",
       "0  {'cpc': [{'section': '0/F', 'class': '1/F/F16'...   \n",
       "1  {'cpc': [], 'ipc': [{'section': '0/H', 'class'...   \n",
       "2                             {'cpc': [], 'ipc': []}   \n",
       "3  {'cpc': [], 'ipc': [{'section': '0/G', 'class'...   \n",
       "4  {'cpc': [{'section': '0/G', 'class': '1/G/G01'...   \n",
       "\n",
       "                                           cpc_codes  \n",
       "0  [B21349691510267362F16C  33/203   20130101FI  ...  \n",
       "1  [B211598997 8665352H04N   5/378   20130101FI  ...  \n",
       "2  [B109916625 6618257H05K   1/141   20130101FI  ...  \n",
       "3  [B2         8635085A61B   5/0002  20130101FI  ...  \n",
       "4  [B11429878410261023G01N  21/84    20130101FI  ...  "
      ]
     },
     "execution_count": 26,
     "metadata": {},
     "output_type": "execute_result"
    }
   ],
   "source": [
    "df.head()"
   ]
  },
  {
   "cell_type": "code",
   "execution_count": 35,
   "metadata": {},
   "outputs": [],
   "source": [
    "counts = df.cpc_codes.apply(lambda x: len(x))"
   ]
  },
  {
   "cell_type": "code",
   "execution_count": 37,
   "metadata": {},
   "outputs": [
    {
     "data": {
      "text/plain": [
       "115"
      ]
     },
     "execution_count": 37,
     "metadata": {},
     "output_type": "execute_result"
    }
   ],
   "source": [
    "len(counts[counts == 1])"
   ]
  },
  {
   "cell_type": "code",
   "execution_count": 39,
   "metadata": {},
   "outputs": [
    {
     "data": {
      "text/plain": [
       "5890"
      ]
     },
     "execution_count": 39,
     "metadata": {},
     "output_type": "execute_result"
    }
   ],
   "source": [
    "len(counts[counts > 1])"
   ]
  },
  {
   "cell_type": "code",
   "execution_count": null,
   "metadata": {},
   "outputs": [],
   "source": []
  }
 ],
 "metadata": {
  "kernelspec": {
   "display_name": "Python 3",
   "language": "python",
   "name": "python3"
  },
  "language_info": {
   "codemirror_mode": {
    "name": "ipython",
    "version": 3
   },
   "file_extension": ".py",
   "mimetype": "text/x-python",
   "name": "python",
   "nbconvert_exporter": "python",
   "pygments_lexer": "ipython3",
   "version": "3.7.4"
  }
 },
 "nbformat": 4,
 "nbformat_minor": 4
}
